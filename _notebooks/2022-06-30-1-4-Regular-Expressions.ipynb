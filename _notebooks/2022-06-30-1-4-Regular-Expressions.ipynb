{
 "cells": [
  {
   "cell_type": "markdown",
   "id": "76f0f5f0",
   "metadata": {},
   "source": [
    "# 1.4 Regular Expression\n",
    "\n",
    "> The post explains how to use regular expression to find and modify text.\n",
    "\n",
    "- toc : true\n",
    "- badges : false\n",
    "- comments : false\n",
    "- categories : [regular-expression, re, text-cleaning,re.findall, NPL-Chapter-1]\n",
    "- image : false"
   ]
  },
  {
   "cell_type": "markdown",
   "id": "d8e2c1f4",
   "metadata": {},
   "source": [
    "## Regular exp. library"
   ]
  },
  {
   "cell_type": "code",
   "execution_count": 6,
   "id": "06b0d755",
   "metadata": {},
   "outputs": [],
   "source": [
    "import re"
   ]
  },
  {
   "cell_type": "markdown",
   "id": "316b07b7",
   "metadata": {},
   "source": [
    "### Finding the first instance in the text"
   ]
  },
  {
   "cell_type": "code",
   "execution_count": 25,
   "id": "b880de81",
   "metadata": {},
   "outputs": [
    {
     "data": {
      "text/plain": [
       "<re.Match object; span=(4, 9), match='phone'>"
      ]
     },
     "execution_count": 25,
     "metadata": {},
     "output_type": "execute_result"
    }
   ],
   "source": [
    "text = \"The phone number given in the helpline is 408-999-4567\"\n",
    "pattern = 'phone'\n",
    "re.search(pattern, text)"
   ]
  },
  {
   "cell_type": "markdown",
   "id": "1a2bccee",
   "metadata": {},
   "source": [
    "If the match is found then search return the location of the match. Note: It only gives the first instance in the text.\n",
    "\n",
    "Span is the starting and ending index of the match. (Index starts from zero)"
   ]
  },
  {
   "cell_type": "code",
   "execution_count": 7,
   "id": "3eaf6e2b",
   "metadata": {},
   "outputs": [
    {
     "data": {
      "text/plain": [
       "<re.Match object; span=(4, 9), match='phone'>"
      ]
     },
     "execution_count": 7,
     "metadata": {},
     "output_type": "execute_result"
    }
   ],
   "source": [
    "match=re.search(pattern, text)\n",
    "match"
   ]
  },
  {
   "cell_type": "markdown",
   "id": "8593ce33",
   "metadata": {},
   "source": [
    "**.span() give the span of the match, .start() give the start index, .end() gives the end index**"
   ]
  },
  {
   "cell_type": "code",
   "execution_count": 8,
   "id": "cb69f331",
   "metadata": {},
   "outputs": [
    {
     "data": {
      "text/plain": [
       "(4, 9)"
      ]
     },
     "execution_count": 8,
     "metadata": {},
     "output_type": "execute_result"
    }
   ],
   "source": [
    "match.span()"
   ]
  },
  {
   "cell_type": "code",
   "execution_count": 10,
   "id": "e529de55",
   "metadata": {},
   "outputs": [
    {
     "data": {
      "text/plain": [
       "4"
      ]
     },
     "execution_count": 10,
     "metadata": {},
     "output_type": "execute_result"
    }
   ],
   "source": [
    "match.start()"
   ]
  },
  {
   "cell_type": "code",
   "execution_count": 11,
   "id": "280d51ef",
   "metadata": {},
   "outputs": [
    {
     "data": {
      "text/plain": [
       "9"
      ]
     },
     "execution_count": 11,
     "metadata": {},
     "output_type": "execute_result"
    }
   ],
   "source": [
    "match.end()"
   ]
  },
  {
   "cell_type": "markdown",
   "id": "17536121",
   "metadata": {},
   "source": [
    "### Find all instances in the text"
   ]
  },
  {
   "cell_type": "code",
   "execution_count": 14,
   "id": "f3d9b8a8",
   "metadata": {},
   "outputs": [],
   "source": [
    "text1 = \"My phone is a hi-tech phone. The phone is dual band, with the lastest phone-tech processor\""
   ]
  },
  {
   "cell_type": "code",
   "execution_count": 16,
   "id": "10e9a2ec",
   "metadata": {},
   "outputs": [
    {
     "data": {
      "text/plain": [
       "['phone', 'phone', 'phone', 'phone']"
      ]
     },
     "execution_count": 16,
     "metadata": {},
     "output_type": "execute_result"
    }
   ],
   "source": [
    "matches = re.findall(\"phone\", text1)\n",
    "matches"
   ]
  },
  {
   "cell_type": "code",
   "execution_count": 17,
   "id": "aebdbbaf",
   "metadata": {},
   "outputs": [
    {
     "data": {
      "text/plain": [
       "4"
      ]
     },
     "execution_count": 17,
     "metadata": {},
     "output_type": "execute_result"
    }
   ],
   "source": [
    "len(matches)"
   ]
  },
  {
   "cell_type": "code",
   "execution_count": 18,
   "id": "67687b91",
   "metadata": {},
   "outputs": [],
   "source": [
    "### Using iterator to the span of each match instances"
   ]
  },
  {
   "cell_type": "code",
   "execution_count": 19,
   "id": "983b4e74",
   "metadata": {},
   "outputs": [
    {
     "name": "stdout",
     "output_type": "stream",
     "text": [
      "(3, 8)\n",
      "(22, 27)\n",
      "(33, 38)\n",
      "(70, 75)\n"
     ]
    }
   ],
   "source": [
    "for match in re.finditer('phone', text1):\n",
    "    print(match.span())"
   ]
  },
  {
   "cell_type": "markdown",
   "id": "410d6c8c",
   "metadata": {},
   "source": [
    "**To find the word matched, use .group() method**"
   ]
  },
  {
   "cell_type": "code",
   "execution_count": 21,
   "id": "49fd57c1",
   "metadata": {},
   "outputs": [
    {
     "data": {
      "text/plain": [
       "'phone'"
      ]
     },
     "execution_count": 21,
     "metadata": {},
     "output_type": "execute_result"
    }
   ],
   "source": [
    "match.group()"
   ]
  },
  {
   "cell_type": "markdown",
   "id": "60b98dcd",
   "metadata": {},
   "source": [
    "## Identifiers in Regex"
   ]
  },
  {
   "cell_type": "markdown",
   "id": "ce7b0769",
   "metadata": {},
   "source": [
    "<table ><tr><th>Character</th><th>Description</th><th>Example Pattern Code</th><th >Exammple Match</th></tr>\n",
    "\n",
    "<tr ><td><span >\\d</span></td><td>A digit</td><td>file_\\d\\d</td><td>file_25</td></tr>\n",
    "\n",
    "<tr ><td><span >\\w</span></td><td>Alphanumeric</td><td>\\w-\\w\\w\\w</td><td>A-b_1</td></tr>\n",
    "\n",
    "\n",
    "\n",
    "<tr ><td><span >\\s</span></td><td>White space</td><td>a\\sb\\sc</td><td>a b c</td></tr>\n",
    "\n",
    "\n",
    "\n",
    "<tr ><td><span >\\D</span></td><td>A non digit</td><td>\\D\\D\\D</td><td>ABC</td></tr>\n",
    "\n",
    "<tr ><td><span >\\W</span></td><td>Non-alphanumeric</td><td>\\W\\W\\W\\W\\W</td><td>*-+=)</td></tr>\n",
    "\n",
    "<tr ><td><span >\\S</span></td><td>Non-whitespace</td><td>\\S\\S\\S\\S</td><td>Yoyo</td></tr></table>"
   ]
  },
  {
   "cell_type": "code",
   "execution_count": 26,
   "id": "c463cc44",
   "metadata": {},
   "outputs": [
    {
     "data": {
      "text/plain": [
       "'The phone number given in the helpline is 408-999-4567'"
      ]
     },
     "execution_count": 26,
     "metadata": {},
     "output_type": "execute_result"
    }
   ],
   "source": [
    "text "
   ]
  },
  {
   "cell_type": "markdown",
   "id": "d046a8ce",
   "metadata": {},
   "source": [
    "If we want to find phone number with the pattern xxx-xxx-xxxx, we can use the identifier for it."
   ]
  },
  {
   "cell_type": "code",
   "execution_count": 30,
   "id": "affb4017",
   "metadata": {},
   "outputs": [
    {
     "data": {
      "text/plain": [
       "'408-999-4567'"
      ]
     },
     "execution_count": 30,
     "metadata": {},
     "output_type": "execute_result"
    }
   ],
   "source": [
    "re.search(r'\\d\\d\\d-\\d\\d\\d-\\d\\d\\d\\d', text).group()"
   ]
  },
  {
   "cell_type": "markdown",
   "id": "4c404f27",
   "metadata": {},
   "source": [
    "## Quantifiers in Regex"
   ]
  },
  {
   "cell_type": "markdown",
   "id": "b8277a08",
   "metadata": {},
   "source": [
    "In repeating the identifier, we can use quantifiers to do the same thing."
   ]
  },
  {
   "cell_type": "markdown",
   "id": "f5e1520b",
   "metadata": {},
   "source": [
    "<table ><tr><th>Character</th><th>Description</th><th>Example Pattern Code</th><th >Exammple Match</th></tr>\n",
    "\n",
    "<tr ><td><span >+</span></td><td>Occurs one or more times</td><td>\tVersion \\w-\\w+</td><td>Version A-b1_1</td></tr>\n",
    "\n",
    "<tr ><td><span >{3}</span></td><td>Occurs exactly 3 times</td><td>\\D{3}</td><td>abc</td></tr>\n",
    "\n",
    "\n",
    "\n",
    "<tr ><td><span >{2,4}</span></td><td>Occurs 2 to 4 times</td><td>\\d{2,4}</td><td>123</td></tr>\n",
    "\n",
    "\n",
    "\n",
    "<tr ><td><span >{3,}</span></td><td>Occurs 3 or more</td><td>\\w{3,}</td><td>anycharacters</td></tr>\n",
    "\n",
    "<tr ><td><span >\\*</span></td><td>Occurs zero or more times</td><td>A\\*B\\*C*</td><td>AAACC</td></tr>\n",
    "\n",
    "<tr ><td><span >?</span></td><td>Once or none</td><td>plurals?</td><td>plural</td></tr></table>"
   ]
  },
  {
   "cell_type": "code",
   "execution_count": 33,
   "id": "b6819b4f",
   "metadata": {},
   "outputs": [
    {
     "data": {
      "text/plain": [
       "'408-999-4567'"
      ]
     },
     "execution_count": 33,
     "metadata": {},
     "output_type": "execute_result"
    }
   ],
   "source": [
    "re.search(r'\\d{3}-\\d{3}-\\d{4}', text).group()"
   ]
  },
  {
   "cell_type": "markdown",
   "id": "a6283ab7",
   "metadata": {},
   "source": [
    "## Groups in Regex search"
   ]
  },
  {
   "cell_type": "markdown",
   "id": "a0c6faca",
   "metadata": {},
   "source": [
    "Using parentheses in regex we can create groups with the matched data"
   ]
  },
  {
   "cell_type": "code",
   "execution_count": 41,
   "id": "e834f29e",
   "metadata": {},
   "outputs": [],
   "source": [
    "phone_pattern = re.compile(r'(\\d{3})-(\\d{3})-(\\d{4})')"
   ]
  },
  {
   "cell_type": "code",
   "execution_count": 46,
   "id": "4673e164",
   "metadata": {},
   "outputs": [],
   "source": [
    "results = re.search(phone_pattern, text)"
   ]
  },
  {
   "cell_type": "code",
   "execution_count": 48,
   "id": "e1269f85",
   "metadata": {},
   "outputs": [
    {
     "data": {
      "text/plain": [
       "'408-999-4567'"
      ]
     },
     "execution_count": 48,
     "metadata": {},
     "output_type": "execute_result"
    }
   ],
   "source": [
    "results.group()"
   ]
  },
  {
   "cell_type": "markdown",
   "id": "28f72e3e",
   "metadata": {},
   "source": [
    "Each parentheses in the regex pattern is group which can called out."
   ]
  },
  {
   "cell_type": "code",
   "execution_count": 51,
   "id": "f6a61cba",
   "metadata": {},
   "outputs": [
    {
     "data": {
      "text/plain": [
       "'408'"
      ]
     },
     "execution_count": 51,
     "metadata": {},
     "output_type": "execute_result"
    }
   ],
   "source": [
    "results.group(1)"
   ]
  },
  {
   "cell_type": "code",
   "execution_count": 52,
   "id": "af3ddc1e",
   "metadata": {},
   "outputs": [
    {
     "data": {
      "text/plain": [
       "'999'"
      ]
     },
     "execution_count": 52,
     "metadata": {},
     "output_type": "execute_result"
    }
   ],
   "source": [
    "results.group(2)"
   ]
  },
  {
   "cell_type": "code",
   "execution_count": 53,
   "id": "659cd3a9",
   "metadata": {},
   "outputs": [
    {
     "data": {
      "text/plain": [
       "'4567'"
      ]
     },
     "execution_count": 53,
     "metadata": {},
     "output_type": "execute_result"
    }
   ],
   "source": [
    "results.group(3)"
   ]
  },
  {
   "cell_type": "markdown",
   "id": "354552d7",
   "metadata": {},
   "source": [
    "## Or operator |"
   ]
  },
  {
   "cell_type": "code",
   "execution_count": 55,
   "id": "9d3b9bd6",
   "metadata": {},
   "outputs": [
    {
     "data": {
      "text/plain": [
       "<re.Match object; span=(5, 8), match='man'>"
      ]
     },
     "execution_count": 55,
     "metadata": {},
     "output_type": "execute_result"
    }
   ],
   "source": [
    "re.search(r\"man|woman\", \"This man is a good person\")"
   ]
  },
  {
   "cell_type": "code",
   "execution_count": 57,
   "id": "9d1163c8",
   "metadata": {},
   "outputs": [
    {
     "data": {
      "text/plain": [
       "<re.Match object; span=(5, 10), match='woman'>"
      ]
     },
     "execution_count": 57,
     "metadata": {},
     "output_type": "execute_result"
    }
   ],
   "source": [
    "re.search(r\"man|woman\", \"This woman is a good person\")"
   ]
  },
  {
   "cell_type": "markdown",
   "id": "b1edcc50",
   "metadata": {},
   "source": [
    "## Wildcard characters"
   ]
  },
  {
   "cell_type": "code",
   "execution_count": 62,
   "id": "1e23e799",
   "metadata": {},
   "outputs": [
    {
     "data": {
      "text/plain": [
       "['fat', 'cat', ' at', 'sat', 'rat', 'lat']"
      ]
     },
     "execution_count": 62,
     "metadata": {},
     "output_type": "execute_result"
    }
   ],
   "source": [
    "re.findall(r\".at\", \"The fat cat ate the peta bread and sat on the rattop and splat\")"
   ]
  },
  {
   "cell_type": "markdown",
   "id": "e5b87593",
   "metadata": {},
   "source": [
    "We see that all 3 letter word being matched. One single period matches on wildcard letter before the pattern."
   ]
  },
  {
   "cell_type": "code",
   "execution_count": 64,
   "id": "7e640146",
   "metadata": {},
   "outputs": [
    {
     "data": {
      "text/plain": [
       "[' fat', ' cat', ' sat', ' rat', 'plat']"
      ]
     },
     "execution_count": 64,
     "metadata": {},
     "output_type": "execute_result"
    }
   ],
   "source": [
    "re.findall(r\"..at\", \"The fat cat ate the peta bread and sat on the rattop and splat\")"
   ]
  },
  {
   "cell_type": "code",
   "execution_count": 67,
   "id": "b940ebe6",
   "metadata": {},
   "outputs": [
    {
     "data": {
      "text/plain": [
       "['fat', 'cat', 'sat', 'rat', 'splat']"
      ]
     },
     "execution_count": 67,
     "metadata": {},
     "output_type": "execute_result"
    }
   ],
   "source": [
    "re.findall(r\"\\S+at\", \"The fat cat ate the peta bread and sat on the rattop and splat\")"
   ]
  },
  {
   "cell_type": "markdown",
   "id": "3be6e7b1",
   "metadata": {},
   "source": [
    "In case one or more non whitespace that end with 'at' are matched."
   ]
  },
  {
   "cell_type": "markdown",
   "id": "dba5793e",
   "metadata": {},
   "source": [
    "## Starts with and ends with"
   ]
  },
  {
   "cell_type": "markdown",
   "id": "7395e0da",
   "metadata": {},
   "source": [
    "^ : Starts with , $ : ends with"
   ]
  },
  {
   "cell_type": "code",
   "execution_count": 70,
   "id": "dd780727",
   "metadata": {},
   "outputs": [
    {
     "data": {
      "text/plain": [
       "['2']"
      ]
     },
     "execution_count": 70,
     "metadata": {},
     "output_type": "execute_result"
    }
   ],
   "source": [
    "re.findall(r'\\d$', \"This ends with a number 2\")"
   ]
  },
  {
   "cell_type": "code",
   "execution_count": 72,
   "id": "828d1faa",
   "metadata": {},
   "outputs": [
    {
     "data": {
      "text/plain": [
       "['5']"
      ]
     },
     "execution_count": 72,
     "metadata": {},
     "output_type": "execute_result"
    }
   ],
   "source": [
    "re.findall(r'^\\d', \"5 is the number of choice\")"
   ]
  },
  {
   "cell_type": "markdown",
   "id": "07d8ea2d",
   "metadata": {},
   "source": [
    "## Exclusion"
   ]
  },
  {
   "cell_type": "markdown",
   "id": "b7eab41f",
   "metadata": {},
   "source": [
    "Square brackerts[^] are used for exclude a character. "
   ]
  },
  {
   "cell_type": "code",
   "execution_count": 12,
   "id": "00ee170a",
   "metadata": {},
   "outputs": [],
   "source": [
    "phrase = \"there are 3 numbers 34 insides 5 this sentence.\"\n"
   ]
  },
  {
   "cell_type": "code",
   "execution_count": 13,
   "id": "30d87b51",
   "metadata": {},
   "outputs": [
    {
     "data": {
      "text/plain": [
       "['there are ', ' numbers ', ' insides ', ' this sentence.']"
      ]
     },
     "execution_count": 13,
     "metadata": {},
     "output_type": "execute_result"
    }
   ],
   "source": [
    "re.findall(r'[^\\d]+', phrase)"
   ]
  },
  {
   "cell_type": "markdown",
   "id": "340f362c",
   "metadata": {},
   "source": [
    "## Removing the punctuation"
   ]
  },
  {
   "cell_type": "code",
   "execution_count": 78,
   "id": "e5e2f381",
   "metadata": {},
   "outputs": [],
   "source": [
    "test_phrase = 'This is a string! But it has punctuation. How can we remove it?'"
   ]
  },
  {
   "cell_type": "code",
   "execution_count": 79,
   "id": "d8513501",
   "metadata": {},
   "outputs": [
    {
     "data": {
      "text/plain": [
       "'This is a string! But it has punctuation. How can we remove it?'"
      ]
     },
     "execution_count": 79,
     "metadata": {},
     "output_type": "execute_result"
    }
   ],
   "source": [
    "test_phrase"
   ]
  },
  {
   "cell_type": "code",
   "execution_count": 81,
   "id": "c96d75c6",
   "metadata": {},
   "outputs": [
    {
     "data": {
      "text/plain": [
       "['This',\n",
       " 'is',\n",
       " 'a',\n",
       " 'string',\n",
       " 'But',\n",
       " 'it',\n",
       " 'has',\n",
       " 'punctuation',\n",
       " 'How',\n",
       " 'can',\n",
       " 'we',\n",
       " 'remove',\n",
       " 'it']"
      ]
     },
     "execution_count": 81,
     "metadata": {},
     "output_type": "execute_result"
    }
   ],
   "source": [
    "re.findall(r'[^!.? ]+', test_phrase)"
   ]
  },
  {
   "cell_type": "markdown",
   "id": "2674169e",
   "metadata": {},
   "source": [
    "**Putting it together**"
   ]
  },
  {
   "cell_type": "code",
   "execution_count": 82,
   "id": "b1b18e4a",
   "metadata": {},
   "outputs": [],
   "source": [
    "clean = ' '.join(re.findall(r'[^!.? ]+', test_phrase))"
   ]
  },
  {
   "cell_type": "code",
   "execution_count": 83,
   "id": "e9c7c9dc",
   "metadata": {},
   "outputs": [
    {
     "data": {
      "text/plain": [
       "'This is a string But it has punctuation How can we remove it'"
      ]
     },
     "execution_count": 83,
     "metadata": {},
     "output_type": "execute_result"
    }
   ],
   "source": [
    "clean"
   ]
  },
  {
   "cell_type": "code",
   "execution_count": 1,
   "id": "128f1f14",
   "metadata": {},
   "outputs": [],
   "source": [
    "## Brackets for Grouping"
   ]
  },
  {
   "cell_type": "code",
   "execution_count": 3,
   "id": "a826d0de",
   "metadata": {},
   "outputs": [],
   "source": [
    "text3 = 'Only find the hypen-words in this sentence. But you do not know how long-ish they are'"
   ]
  },
  {
   "cell_type": "code",
   "execution_count": 8,
   "id": "d334ad38",
   "metadata": {},
   "outputs": [
    {
     "data": {
      "text/plain": [
       "'Only find the hypen-words in this sentence. But you do not know how long-ish they are'"
      ]
     },
     "execution_count": 8,
     "metadata": {},
     "output_type": "execute_result"
    }
   ],
   "source": [
    "text3"
   ]
  },
  {
   "cell_type": "code",
   "execution_count": 10,
   "id": "a2667418",
   "metadata": {},
   "outputs": [
    {
     "data": {
      "text/plain": [
       "['hypen-words', 'long-ish']"
      ]
     },
     "execution_count": 10,
     "metadata": {},
     "output_type": "execute_result"
    }
   ],
   "source": [
    "re.findall(r'[\\w]+-[\\w+',text3)"
   ]
  },
  {
   "cell_type": "markdown",
   "id": "607eeffd",
   "metadata": {},
   "source": [
    "**Note** Difference between [], ()\n",
    "\n",
    "The [] construct in a regex is essentially shorthand for an | on all of the contents. For example [abc] matches a, b or c. Additionally the - character has special meaning inside of a []. It provides a range construct. The regex [a-z] will match any letter a through z.\n",
    "\n",
    "The () construct is a grouping construct establishing a precedence order (it also has impact on accessing matched substrings but that's a bit more of an advanced topic). The regex (abc) will match the string \"abc\".\n"
   ]
  },
  {
   "cell_type": "code",
   "execution_count": 14,
   "id": "d4f3921c",
   "metadata": {},
   "outputs": [],
   "source": [
    "## Parentheses for Multiple Options"
   ]
  },
  {
   "cell_type": "code",
   "execution_count": 15,
   "id": "0d188aea",
   "metadata": {},
   "outputs": [],
   "source": [
    "# Find words that start with cat and end with one of these options: 'fish','nap', or 'claw'\n",
    "text = 'Hello, would you like some catfish?'\n",
    "texttwo = \"Hello, would you like to take a catnap?\"\n",
    "textthree = \"Hello, have you seen this caterpillar?\""
   ]
  },
  {
   "cell_type": "code",
   "execution_count": 16,
   "id": "880c8d06",
   "metadata": {},
   "outputs": [
    {
     "data": {
      "text/plain": [
       "'catfish'"
      ]
     },
     "execution_count": 16,
     "metadata": {},
     "output_type": "execute_result"
    }
   ],
   "source": [
    "re.search(r'cat(fish|nap|claw)',text).group()"
   ]
  },
  {
   "cell_type": "code",
   "execution_count": 17,
   "id": "e46d10fb",
   "metadata": {},
   "outputs": [
    {
     "data": {
      "text/plain": [
       "'catnap'"
      ]
     },
     "execution_count": 17,
     "metadata": {},
     "output_type": "execute_result"
    }
   ],
   "source": [
    "re.search(r'cat(fish|nap|claw)',texttwo).group()"
   ]
  },
  {
   "cell_type": "code",
   "execution_count": 19,
   "id": "3dde6ea2",
   "metadata": {},
   "outputs": [],
   "source": [
    "re.search(r'cat(fish|nap|claw)',textthree)"
   ]
  },
  {
   "cell_type": "code",
   "execution_count": null,
   "id": "32a43df1",
   "metadata": {},
   "outputs": [],
   "source": []
  }
 ],
 "metadata": {
  "kernelspec": {
   "display_name": "Python 3 (ipykernel)",
   "language": "python",
   "name": "python3"
  },
  "language_info": {
   "codemirror_mode": {
    "name": "ipython",
    "version": 3
   },
   "file_extension": ".py",
   "mimetype": "text/x-python",
   "name": "python",
   "nbconvert_exporter": "python",
   "pygments_lexer": "ipython3",
   "version": "3.9.7"
  }
 },
 "nbformat": 4,
 "nbformat_minor": 5
}
