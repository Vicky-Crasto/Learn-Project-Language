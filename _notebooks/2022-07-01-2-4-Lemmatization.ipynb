{
 "cells": [
  {
   "cell_type": "markdown",
   "id": "6f0d934a",
   "metadata": {},
   "source": [
    "# 2.4 Lemmatization\n",
    "\n",
    "> The post explains the Lemmatization\n",
    "\n",
    "- toc : true\n",
    "- badges : false\n",
    "- comments : false\n",
    "- categories : [Spacy,NLP-Chapter-2,lemma]\n",
    "- image : false"
   ]
  },
  {
   "cell_type": "markdown",
   "id": "7ccc9b5e",
   "metadata": {},
   "source": [
    "In contrast to stemming, lemmatization looks beyond word reduction, and considers a language's full vocabulary to apply a *morphological analysis* to words. The lemma of 'was' is 'be' and the lemma of 'mice' is 'mouse'. Further, the lemma of 'meeting' might be 'meet' or 'meeting' depending on its use in a sentence."
   ]
  },
  {
   "cell_type": "code",
   "execution_count": 3,
   "id": "9cb3a9ef",
   "metadata": {},
   "outputs": [],
   "source": [
    "# Perform standard imports:\n",
    "import spacy\n",
    "nlp = spacy.load('en_core_web_sm')"
   ]
  },
  {
   "cell_type": "code",
   "execution_count": 7,
   "id": "01402b72",
   "metadata": {},
   "outputs": [
    {
     "name": "stdout",
     "output_type": "stream",
     "text": [
      "I         PRON      4690420944186131903      I         \n",
      "am        AUX       10382539506755952630     be        \n",
      "a         DET       11901859001352538922     a         \n",
      "runner    NOUN      12640964157389618806     runner    \n",
      "running   VERB      12767647472892411841     run       \n",
      "in        ADP       3002984154512732771      in        \n",
      "a         DET       11901859001352538922     a         \n",
      "race      NOUN      8048469955494714898      race      \n",
      "because   SCONJ     16950148841647037698     because   \n",
      "I         PRON      4690420944186131903      I         \n",
      "love      VERB      3702023516439754181      love      \n",
      "to        PART      3791531372978436496      to        \n",
      "run       VERB      12767647472892411841     run       \n",
      "since     SCONJ     10066841407251338481     since     \n",
      "I         PRON      4690420944186131903      I         \n",
      "ran       VERB      12767647472892411841     run       \n",
      "today     NOUN      11042482332948150395     today     \n"
     ]
    }
   ],
   "source": [
    "doc1 = nlp(u\"I am a runner running in a race because I love to run since I ran today\")\n",
    "\n",
    "for token in doc1:\n",
    "    print(f'{token.text:<{10}}{token.pos_:<{10}}{token.lemma:<{25}}{token.lemma_:<{10}}')"
   ]
  },
  {
   "cell_type": "markdown",
   "id": "b8dec03b",
   "metadata": {},
   "source": [
    "In this case we see that running, run and ran have the same lemma (12767647472892411841)"
   ]
  },
  {
   "cell_type": "code",
   "execution_count": 9,
   "id": "6fc69173",
   "metadata": {},
   "outputs": [],
   "source": [
    "### Function to display the lemma"
   ]
  },
  {
   "cell_type": "code",
   "execution_count": 10,
   "id": "567cbf6e",
   "metadata": {},
   "outputs": [],
   "source": [
    "def show_lemmas(text):\n",
    "    for token in text:\n",
    "        print(f'{token.text:{12}} {token.pos_:{6}} {token.lemma:<{22}} {token.lemma_}')"
   ]
  },
  {
   "cell_type": "code",
   "execution_count": 11,
   "id": "085413c3",
   "metadata": {},
   "outputs": [
    {
     "name": "stdout",
     "output_type": "stream",
     "text": [
      "I            PRON   4690420944186131903    I\n",
      "saw          VERB   11925638236994514241   see\n",
      "eighteen     NUM    9609336664675087640    eighteen\n",
      "mice         NOUN   1384165645700560590    mouse\n",
      "today        NOUN   11042482332948150395   today\n",
      "!            PUNCT  17494803046312582752   !\n"
     ]
    }
   ],
   "source": [
    "doc2 = nlp(u\"I saw eighteen mice today!\")\n",
    "\n",
    "show_lemmas(doc2)"
   ]
  },
  {
   "cell_type": "code",
   "execution_count": 12,
   "id": "99b5fcd7",
   "metadata": {},
   "outputs": [
    {
     "name": "stdout",
     "output_type": "stream",
     "text": [
      "I            PRON   4690420944186131903    I\n",
      "am           AUX    10382539506755952630   be\n",
      "meeting      VERB   6880656908171229526    meet\n",
      "him          PRON   1655312771067108281    he\n",
      "tomorrow     NOUN   3573583789758258062    tomorrow\n",
      "at           ADP    11667289587015813222   at\n",
      "the          DET    7425985699627899538    the\n",
      "meeting      NOUN   14798207169164081740   meeting\n",
      ".            PUNCT  12646065887601541794   .\n"
     ]
    }
   ],
   "source": [
    "doc3 = nlp(u\"I am meeting him tomorrow at the meeting.\")\n",
    "\n",
    "show_lemmas(doc3)"
   ]
  },
  {
   "cell_type": "markdown",
   "id": "fa9f77cb",
   "metadata": {},
   "source": [
    "Here we see how meeting is correctly tagged as a noun and a verb"
   ]
  },
  {
   "cell_type": "code",
   "execution_count": 14,
   "id": "360b9dad",
   "metadata": {},
   "outputs": [
    {
     "name": "stdout",
     "output_type": "stream",
     "text": [
      "That         PRON   4380130941430378203    that\n",
      "'s           AUX    10382539506755952630   be\n",
      "an           DET    15099054000809333061   an\n",
      "enormous     ADJ    17917224542039855524   enormous\n",
      "automobile   NOUN   7211811266693931283    automobile\n"
     ]
    }
   ],
   "source": [
    "doc4 = nlp(u\"That's an enormous automobile\")\n",
    "\n",
    "show_lemmas(doc4)"
   ]
  },
  {
   "cell_type": "markdown",
   "id": "4cc34db8",
   "metadata": {},
   "source": [
    "<font color=green>Note that lemmatization does *not* reduce words to their most basic synonym - that is, `enormous` doesn't become `big` and `automobile` doesn't become `car`.</font>\n",
    "\n"
   ]
  }
 ],
 "metadata": {
  "kernelspec": {
   "display_name": "Python 3 (ipykernel)",
   "language": "python",
   "name": "python3"
  },
  "language_info": {
   "codemirror_mode": {
    "name": "ipython",
    "version": 3
   },
   "file_extension": ".py",
   "mimetype": "text/x-python",
   "name": "python",
   "nbconvert_exporter": "python",
   "pygments_lexer": "ipython3",
   "version": "3.9.7"
  }
 },
 "nbformat": 4,
 "nbformat_minor": 5
}
