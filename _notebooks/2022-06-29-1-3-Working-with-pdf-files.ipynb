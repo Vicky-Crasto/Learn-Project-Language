{
 "cells": [
  {
   "cell_type": "markdown",
   "id": "70c740c7",
   "metadata": {},
   "source": [
    "# 1.3 Working with pdf files\n",
    "\n",
    "> The post explains how to read,edit and append pdf files in python\n",
    "\n",
    "- toc : true\n",
    "- badges : false\n",
    "- comments : false\n",
    "- categories : [PyPDF2, pdf]\n",
    "- image : false"
   ]
  },
  {
   "cell_type": "markdown",
   "id": "ba2d8db0",
   "metadata": {},
   "source": [
    "## Installing the library PyPDF2"
   ]
  },
  {
   "cell_type": "code",
   "execution_count": 2,
   "id": "73f92f9c",
   "metadata": {},
   "outputs": [
    {
     "name": "stdout",
     "output_type": "stream",
     "text": [
      "Collecting PyPDF2\n",
      "  Downloading PyPDF2-2.4.0-py3-none-any.whl (197 kB)\n",
      "Requirement already satisfied: typing-extensions in c:\\users\\vicky.crasto\\anaconda3\\lib\\site-packages (from PyPDF2) (3.10.0.2)\n",
      "Installing collected packages: PyPDF2\n",
      "Successfully installed PyPDF2-2.4.0\n",
      "Note: you may need to restart the kernel to use updated packages.\n"
     ]
    }
   ],
   "source": [
    "pip install PyPDF2"
   ]
  },
  {
   "cell_type": "code",
   "execution_count": 5,
   "id": "25ea0809",
   "metadata": {},
   "outputs": [],
   "source": [
    "import PyPDF2"
   ]
  },
  {
   "cell_type": "markdown",
   "id": "d003e569",
   "metadata": {},
   "source": [
    "## Working with PyPDF2"
   ]
  },
  {
   "cell_type": "markdown",
   "id": "8d04b011",
   "metadata": {},
   "source": [
    "### Reading a pdf"
   ]
  },
  {
   "cell_type": "code",
   "execution_count": 8,
   "id": "1ccd4d02",
   "metadata": {},
   "outputs": [],
   "source": [
    "pdf1 = open(\"data_files/US_Declaration.pdf\", 'rb')"
   ]
  },
  {
   "cell_type": "markdown",
   "id": "908b3c33",
   "metadata": {},
   "source": [
    "Note : the mode is 'rb' - read the file as a binary"
   ]
  },
  {
   "cell_type": "markdown",
   "id": "f21f8b7a",
   "metadata": {},
   "source": [
    "**Creating a pdf reader instance**"
   ]
  },
  {
   "cell_type": "code",
   "execution_count": 10,
   "id": "5e15c6fe",
   "metadata": {},
   "outputs": [],
   "source": [
    "pdf_reader = PyPDF2.PdfFileReader(pdf1)"
   ]
  },
  {
   "cell_type": "markdown",
   "id": "576e3a5e",
   "metadata": {},
   "source": [
    "**Number of pages in the pdf**"
   ]
  },
  {
   "cell_type": "code",
   "execution_count": 11,
   "id": "9a707d49",
   "metadata": {},
   "outputs": [
    {
     "data": {
      "text/plain": [
       "5"
      ]
     },
     "execution_count": 11,
     "metadata": {},
     "output_type": "execute_result"
    }
   ],
   "source": [
    "pdf_reader.numPages"
   ]
  },
  {
   "cell_type": "markdown",
   "id": "cb7a4b67",
   "metadata": {},
   "source": [
    "### Extracting text from a page"
   ]
  },
  {
   "cell_type": "code",
   "execution_count": 15,
   "id": "e5291ed3",
   "metadata": {},
   "outputs": [
    {
     "data": {
      "text/plain": [
       "\" Declaration of Independence\\nIN CONGRESS, July 4, 1776.  \\nThe unanimous Declaration of the thirteen united States of America, \\nWhen in the Course of human events, it becomes necessary for one people to dissolve the\\npolitical bands which have connected them with another, and to assume among the powers of the\\nearth, the separate and equal station to which the Laws of Nature and of Nature's God entitle\\nthem, a decent respect to the opinions of mankind requires that they should declare the causes\\nwhich impel them to the separation. \\nWe hold these truths to be self-evident, that all men are created equal, that they are endowed by\\ntheir Creator with certain unalienable Rights, that among these are Life, Liberty and the pursuit\\nof Happiness.— \\x14That to secure these rights, Governments are instituted among Men, deriving\\ntheir just powers from the consent of the governed,—  \\x14That whenever any Form of Government\\nbecomes destructive of these ends, it is the Right of the People to alter or to abolish it, and to\\ninstitute new Government, laying its foundation on such principles and organizing its powers in\\nsuch form, as to them shall seem most likely to effect their Safety and Happiness. Prudence,\\nindeed, will dictate that Governments long established should not be changed for light and\\ntransient causes; and accordingly all experience hath shewn, that mankind are more disposed to\\nsuffer, while evils are sufferable, than to right themselves by abolishing the forms to which they\\nare accustomed. But when a long train of abuses and usurpations, pursuing invariably the same\\nObject evinces a design to reduce them under absolute Despotism, it is their right, it is their duty,\\nto throw off such Government, and to provide new Guards for their future security.— \\x14Such has\\nbeen the patient sufferance of these Colonies; and such is now the necessity which constrains\\nthem to alter their former Systems of Government. The history of the present King of Great\\nBritain is a history of repeated injuries and usurpations, all having in direct object the\\nestablishment of an absolute Tyranny over these States. To prove this, let Facts be submitted to a\\ncandid world. \\nHe has refused his Assent to Laws, the most wholesome and necessary for the\\npublic good.\\nHe has forbidden his Governors to pass Laws of immediate and pressing\\nimportance, unless suspended in their operation till his Assent should be obtained;\\nand when so suspended, he has utterly neglected to attend to them.\\nHe has refused to pass other Laws for the accommodation of large districts of\\npeople, unless those people would relinquish the right of Representation in the\\nLegislature, a right inestimable to them and formidable to tyrants only. \\nHe has called together legislative bodies at places unusual, uncomfortable, and distant\\nfrom the depository of their public Records, for the sole purpose of fatiguing them into\\ncompliance with his measures.\""
      ]
     },
     "execution_count": 15,
     "metadata": {},
     "output_type": "execute_result"
    }
   ],
   "source": [
    "page_one = pdf_reader.getPage(0)\n",
    "page_one_text = page_one.extractText()\n",
    "page_one_text"
   ]
  },
  {
   "cell_type": "code",
   "execution_count": 17,
   "id": "96bc87ec",
   "metadata": {},
   "outputs": [],
   "source": [
    "pdf1.close()"
   ]
  },
  {
   "cell_type": "markdown",
   "id": "eb94d778",
   "metadata": {},
   "source": [
    "## Adding pages to pdf file"
   ]
  },
  {
   "cell_type": "markdown",
   "id": "90d70848",
   "metadata": {},
   "source": [
    "**Open the pdf and extracting the first page**"
   ]
  },
  {
   "cell_type": "code",
   "execution_count": 26,
   "id": "07198a75",
   "metadata": {},
   "outputs": [],
   "source": [
    "pdf2 = open(\"data_files/US_Declaration.pdf\",'rb')\n",
    "pdf_reader = PyPDF2.PdfFileReader(pdf2)\n",
    "first_page = pdf_reader.getPage(0)"
   ]
  },
  {
   "cell_type": "markdown",
   "id": "b5d79632",
   "metadata": {},
   "source": [
    "**Creating a writer object**"
   ]
  },
  {
   "cell_type": "code",
   "execution_count": 29,
   "id": "a3137da3",
   "metadata": {},
   "outputs": [],
   "source": [
    "pdf_writer = PyPDF2.PdfFileWriter()\n",
    "pdf_writer.addPage(first_page)"
   ]
  },
  {
   "cell_type": "code",
   "execution_count": 30,
   "id": "4e53a133",
   "metadata": {},
   "outputs": [],
   "source": [
    "pdf_output = open(\"New_doc.pdf\", 'wb')"
   ]
  },
  {
   "cell_type": "code",
   "execution_count": 31,
   "id": "860e04cd",
   "metadata": {},
   "outputs": [],
   "source": [
    "pdf_writer.write(pdf_output)\n",
    "pdf_output.close()\n",
    "pdf2.close()"
   ]
  },
  {
   "cell_type": "markdown",
   "id": "eef0b690",
   "metadata": {},
   "source": [
    "**Checking the new doc which is created**"
   ]
  },
  {
   "cell_type": "code",
   "execution_count": 35,
   "id": "90abd836",
   "metadata": {},
   "outputs": [
    {
     "data": {
      "text/plain": [
       "1"
      ]
     },
     "execution_count": 35,
     "metadata": {},
     "output_type": "execute_result"
    }
   ],
   "source": [
    "pdf3 = open(\"New_doc.pdf\", 'rb')\n",
    "pdf_reader = PyPDF2.PdfFileReader(pdf3)\n",
    "pdf_reader.numPages"
   ]
  },
  {
   "cell_type": "code",
   "execution_count": 36,
   "id": "2e9c1632",
   "metadata": {},
   "outputs": [],
   "source": [
    "pdf3.close()"
   ]
  }
 ],
 "metadata": {
  "kernelspec": {
   "display_name": "Python 3 (ipykernel)",
   "language": "python",
   "name": "python3"
  },
  "language_info": {
   "codemirror_mode": {
    "name": "ipython",
    "version": 3
   },
   "file_extension": ".py",
   "mimetype": "text/x-python",
   "name": "python",
   "nbconvert_exporter": "python",
   "pygments_lexer": "ipython3",
   "version": "3.9.7"
  }
 },
 "nbformat": 4,
 "nbformat_minor": 5
}
