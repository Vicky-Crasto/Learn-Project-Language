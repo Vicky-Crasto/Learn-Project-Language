{
 "cells": [
  {
   "cell_type": "markdown",
   "id": "fb31e653",
   "metadata": {},
   "source": [
    "# 1.2 Working with text  files\n",
    "\n",
    "> The post explains how to create and work with text files in python. \n",
    "\n",
    "- toc : true\n",
    "- badges : false\n",
    "- comments : false\n",
    "- categories : [readlines(),textfiles]\n",
    "- image : false"
   ]
  },
  {
   "cell_type": "markdown",
   "id": "90559682",
   "metadata": {},
   "source": [
    "## Working with text file in python"
   ]
  },
  {
   "cell_type": "markdown",
   "id": "710ecbd5",
   "metadata": {},
   "source": [
    "### Creating a text file in python"
   ]
  },
  {
   "cell_type": "markdown",
   "id": "382a32ce",
   "metadata": {},
   "source": [
    "%%writefile test.txt ( Use this magic command before the text)"
   ]
  },
  {
   "cell_type": "code",
   "execution_count": 4,
   "id": "cc1c71ad",
   "metadata": {},
   "outputs": [
    {
     "name": "stdout",
     "output_type": "stream",
     "text": [
      "Writing test.txt\n"
     ]
    }
   ],
   "source": [
    "Hello, this is a new file create using python ide.\n",
    "This the second line of the file."
   ]
  },
  {
   "cell_type": "markdown",
   "id": "cac473e0",
   "metadata": {},
   "source": [
    "### Understanding the location of the file"
   ]
  },
  {
   "cell_type": "markdown",
   "id": "b059a11b",
   "metadata": {},
   "source": [
    "Give the location of the present working directory\n"
   ]
  },
  {
   "cell_type": "code",
   "execution_count": 7,
   "id": "8110699b",
   "metadata": {
    "scrolled": true
   },
   "outputs": [
    {
     "data": {
      "text/plain": [
       "'C:\\\\Users\\\\Vicky.Crasto\\\\OneDrive - Unilever\\\\Work_file_082021\\\\05_Other_learning\\\\NLP\\\\01_Udemy_JoseP'"
      ]
     },
     "execution_count": 7,
     "metadata": {},
     "output_type": "execute_result"
    }
   ],
   "source": [
    "pwd()"
   ]
  },
  {
   "cell_type": "markdown",
   "id": "2a657a81",
   "metadata": {},
   "source": [
    "**Opening the file**"
   ]
  },
  {
   "cell_type": "code",
   "execution_count": 13,
   "id": "83349731",
   "metadata": {},
   "outputs": [],
   "source": [
    "\n",
    "myfile = open(\"test.txt\")"
   ]
  },
  {
   "cell_type": "code",
   "execution_count": 10,
   "id": "912356f8",
   "metadata": {},
   "outputs": [
    {
     "data": {
      "text/plain": [
       "<_io.TextIOWrapper name='test.txt' mode='r' encoding='cp1252'>"
      ]
     },
     "execution_count": 10,
     "metadata": {},
     "output_type": "execute_result"
    }
   ],
   "source": [
    "myfile"
   ]
  },
  {
   "cell_type": "markdown",
   "id": "34926c73",
   "metadata": {},
   "source": [
    "This is the location in the memory which hold the file."
   ]
  },
  {
   "cell_type": "markdown",
   "id": "bc611fae",
   "metadata": {},
   "source": [
    "## Using .read() and .seek()"
   ]
  },
  {
   "cell_type": "code",
   "execution_count": 14,
   "id": "5b104123",
   "metadata": {},
   "outputs": [
    {
     "data": {
      "text/plain": [
       "'Hello, this is a new file create using python ide.\\nThis the second line of the file.\\n'"
      ]
     },
     "execution_count": 14,
     "metadata": {},
     "output_type": "execute_result"
    }
   ],
   "source": [
    "myfile.read()"
   ]
  },
  {
   "cell_type": "code",
   "execution_count": 15,
   "id": "809cbd0e",
   "metadata": {},
   "outputs": [
    {
     "data": {
      "text/plain": [
       "''"
      ]
     },
     "execution_count": 15,
     "metadata": {},
     "output_type": "execute_result"
    }
   ],
   "source": [
    "## any calling the function\n",
    "myfile.read()"
   ]
  },
  {
   "cell_type": "markdown",
   "id": "8244b413",
   "metadata": {},
   "source": [
    "The second time the function it called it does not give any output since the cursor has reached the end of the document. There is nothing more read. Hence we need to reset the cursor to the start."
   ]
  },
  {
   "cell_type": "markdown",
   "id": "aea65aed",
   "metadata": {},
   "source": [
    "**Resetting the cursor**"
   ]
  },
  {
   "cell_type": "code",
   "execution_count": 18,
   "id": "63a442a7",
   "metadata": {},
   "outputs": [
    {
     "data": {
      "text/plain": [
       "0"
      ]
     },
     "execution_count": 18,
     "metadata": {},
     "output_type": "execute_result"
    }
   ],
   "source": [
    "myfile.seek(0)"
   ]
  },
  {
   "cell_type": "code",
   "execution_count": 19,
   "id": "61a3a9b0",
   "metadata": {},
   "outputs": [
    {
     "data": {
      "text/plain": [
       "'Hello, this is a new file create using python ide.\\nThis the second line of the file.\\n'"
      ]
     },
     "execution_count": 19,
     "metadata": {},
     "output_type": "execute_result"
    }
   ],
   "source": [
    "myfile.read()"
   ]
  },
  {
   "cell_type": "markdown",
   "id": "f10eac1d",
   "metadata": {},
   "source": [
    "## Using .readlines()"
   ]
  },
  {
   "cell_type": "markdown",
   "id": "3da99fd7",
   "metadata": {},
   "source": [
    "readlines() help to read the file line by line. Note: All the data is helded in the memory, hence large files will need to handled carefully."
   ]
  },
  {
   "cell_type": "code",
   "execution_count": 21,
   "id": "1cc7d4ba",
   "metadata": {},
   "outputs": [
    {
     "data": {
      "text/plain": [
       "['Hello, this is a new file create using python ide.\\n',\n",
       " 'This the second line of the file.\\n']"
      ]
     },
     "execution_count": 21,
     "metadata": {},
     "output_type": "execute_result"
    }
   ],
   "source": [
    "myfile.seek(0)\n",
    "myfile.readlines()"
   ]
  },
  {
   "cell_type": "code",
   "execution_count": 24,
   "id": "18134761",
   "metadata": {},
   "outputs": [],
   "source": [
    "myfile.close()"
   ]
  },
  {
   "cell_type": "markdown",
   "id": "71260247",
   "metadata": {},
   "source": [
    "## Writing a file - Understanding the mode"
   ]
  },
  {
   "cell_type": "markdown",
   "id": "ea302292",
   "metadata": {},
   "source": [
    "While opening the file, we can open it with different modes\n",
    "- 'r' default to read the file\n",
    "- 'w+' read and write the file.(Overwrites the existing file)\n",
    "- 'wb+' read and write as binary (used in case of pdf)"
   ]
  },
  {
   "cell_type": "code",
   "execution_count": 28,
   "id": "ef5917ed",
   "metadata": {},
   "outputs": [
    {
     "data": {
      "text/plain": [
       "26"
      ]
     },
     "execution_count": 28,
     "metadata": {},
     "output_type": "execute_result"
    }
   ],
   "source": [
    "myfile = open(\"test.txt\", mode= 'w+')\n",
    "myfile.write(\"This is an additional file\")"
   ]
  },
  {
   "cell_type": "code",
   "execution_count": 30,
   "id": "24d51b95",
   "metadata": {},
   "outputs": [
    {
     "data": {
      "text/plain": [
       "['This is an additional file']"
      ]
     },
     "execution_count": 30,
     "metadata": {},
     "output_type": "execute_result"
    }
   ],
   "source": [
    "myfile.seek(0)\n",
    "myfile.readlines()"
   ]
  },
  {
   "cell_type": "markdown",
   "id": "92c6e096",
   "metadata": {},
   "source": [
    "Hence the existing data is deleted and the new data is overwrite."
   ]
  },
  {
   "cell_type": "code",
   "execution_count": 32,
   "id": "3224a601",
   "metadata": {},
   "outputs": [],
   "source": [
    "myfile.close()"
   ]
  },
  {
   "cell_type": "markdown",
   "id": "2908cc30",
   "metadata": {},
   "source": [
    "## Appending a file"
   ]
  },
  {
   "cell_type": "markdown",
   "id": "d751b2f6",
   "metadata": {},
   "source": [
    "Passing the argument `'a'` opens the file and puts the pointer at the end, so anything written is appended."
   ]
  },
  {
   "cell_type": "code",
   "execution_count": 38,
   "id": "a6c9297b",
   "metadata": {},
   "outputs": [
    {
     "name": "stdout",
     "output_type": "stream",
     "text": [
      "This is an additional file\n",
      "Appending a new line to the existing line\n",
      "Appending a new line to the existing line\n",
      "Appending a new line to the existing line\n",
      "Appending a new line to the existing line\n"
     ]
    }
   ],
   "source": [
    "myfile = open(\"test.txt\", 'a+')\n",
    "myfile.write(\"\\nAppending a new line to the existing line\")\n",
    "myfile.seek(0)\n",
    "print(myfile.read())"
   ]
  },
  {
   "cell_type": "code",
   "execution_count": 39,
   "id": "b2d8ef2e",
   "metadata": {},
   "outputs": [],
   "source": [
    "myfile.close()"
   ]
  },
  {
   "cell_type": "markdown",
   "id": "38802fc6",
   "metadata": {},
   "source": [
    "## Aliases and context managers"
   ]
  },
  {
   "cell_type": "markdown",
   "id": "41b06cd9",
   "metadata": {},
   "source": [
    "You can assign temporary variable names as aliases, and manage the opening and closing of files automatically using a context manager:"
   ]
  },
  {
   "cell_type": "code",
   "execution_count": 43,
   "id": "eab716c8",
   "metadata": {},
   "outputs": [
    {
     "name": "stdout",
     "output_type": "stream",
     "text": [
      "This is an additional file\n",
      "\n"
     ]
    }
   ],
   "source": [
    "with open('test.txt','r') as txt:\n",
    "    first_line = txt.readlines()[0]\n",
    "print(first_line)"
   ]
  },
  {
   "cell_type": "markdown",
   "id": "7cf63ca9",
   "metadata": {},
   "source": [
    "By using this method, the file is opened, read and closed by context mananger automatically after doing the specified operation."
   ]
  },
  {
   "cell_type": "code",
   "execution_count": 44,
   "id": "a887c0b6",
   "metadata": {},
   "outputs": [
    {
     "data": {
      "text/plain": [
       "'This is an additional file\\n'"
      ]
     },
     "execution_count": 44,
     "metadata": {},
     "output_type": "execute_result"
    }
   ],
   "source": [
    "first_line"
   ]
  },
  {
   "cell_type": "code",
   "execution_count": 45,
   "id": "0d9540ef",
   "metadata": {},
   "outputs": [
    {
     "ename": "ValueError",
     "evalue": "I/O operation on closed file.",
     "output_type": "error",
     "traceback": [
      "\u001b[1;31m---------------------------------------------------------------------------\u001b[0m",
      "\u001b[1;31mValueError\u001b[0m                                Traceback (most recent call last)",
      "\u001b[1;32mC:\\Users\\VICKY~1.CRA\\AppData\\Local\\Temp/ipykernel_9856/1416744708.py\u001b[0m in \u001b[0;36m<module>\u001b[1;34m\u001b[0m\n\u001b[1;32m----> 1\u001b[1;33m \u001b[0mtxt\u001b[0m\u001b[1;33m.\u001b[0m\u001b[0mread\u001b[0m\u001b[1;33m(\u001b[0m\u001b[1;33m)\u001b[0m\u001b[1;33m\u001b[0m\u001b[1;33m\u001b[0m\u001b[0m\n\u001b[0m",
      "\u001b[1;31mValueError\u001b[0m: I/O operation on closed file."
     ]
    }
   ],
   "source": [
    "txt.read()"
   ]
  },
  {
   "cell_type": "markdown",
   "id": "6eea94a7",
   "metadata": {},
   "source": [
    "Hence the extract line remain in the object but the file is closed by the context manager."
   ]
  },
  {
   "cell_type": "markdown",
   "id": "a85c0089",
   "metadata": {},
   "source": [
    "## Iterating through a file"
   ]
  },
  {
   "cell_type": "code",
   "execution_count": 49,
   "id": "21c71106",
   "metadata": {},
   "outputs": [
    {
     "name": "stdout",
     "output_type": "stream",
     "text": [
      "This is an additional file\n",
      "$$$$Appending a new line to the existing line\n",
      "$$$$Appending a new line to the existing line\n",
      "$$$$Appending a new line to the existing line\n",
      "$$$$Appending a new line to the existing line$$$$"
     ]
    }
   ],
   "source": [
    "with open('test.txt', 'r') as txt:\n",
    "    for line in txt:\n",
    "        print(line , end='$$$$')"
   ]
  },
  {
   "cell_type": "code",
   "execution_count": null,
   "id": "e49bf172",
   "metadata": {},
   "outputs": [],
   "source": []
  }
 ],
 "metadata": {
  "kernelspec": {
   "display_name": "Python 3 (ipykernel)",
   "language": "python",
   "name": "python3"
  },
  "language_info": {
   "codemirror_mode": {
    "name": "ipython",
    "version": 3
   },
   "file_extension": ".py",
   "mimetype": "text/x-python",
   "name": "python",
   "nbconvert_exporter": "python",
   "pygments_lexer": "ipython3",
   "version": "3.9.7"
  }
 },
 "nbformat": 4,
 "nbformat_minor": 5
}
