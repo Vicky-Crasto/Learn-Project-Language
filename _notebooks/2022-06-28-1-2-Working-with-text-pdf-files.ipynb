{
 "cells": [
  {
   "cell_type": "markdown",
   "id": "cf9c6c01",
   "metadata": {},
   "source": [
    "# 1.2 Working with text and pdf files\n",
    "\n",
    "> Summary : \n",
    "\n",
    "- toc : true\n",
    "- badges : true\n",
    "- comments : true\n",
    "- categories : [NLP]\n",
    "- image : false"
   ]
  },
  {
   "cell_type": "markdown",
   "id": "bd86bc54",
   "metadata": {},
   "source": [
    "## Working with text file in python"
   ]
  },
  {
   "cell_type": "markdown",
   "id": "1e4ecc57",
   "metadata": {},
   "source": [
    "### Creating a text file in python"
   ]
  },
  {
   "cell_type": "code",
   "execution_count": 4,
   "id": "2996e0b4",
   "metadata": {},
   "outputs": [
    {
     "name": "stdout",
     "output_type": "stream",
     "text": [
      "Writing test.txt\n"
     ]
    }
   ],
   "source": [
    "%%writefile test.txt\n",
    "Hello, this is a new file create using python ide.\n",
    "This the second line of the file."
   ]
  },
  {
   "cell_type": "markdown",
   "id": "12665d64",
   "metadata": {},
   "source": [
    "### Understanding the location of the file"
   ]
  },
  {
   "cell_type": "code",
   "execution_count": 7,
   "id": "4ee91896",
   "metadata": {},
   "outputs": [
    {
     "data": {
      "text/plain": [
       "'C:\\\\Users\\\\Vicky.Crasto\\\\OneDrive - Unilever\\\\Work_file_082021\\\\05_Other_learning\\\\NLP\\\\01_Udemy_JoseP'"
      ]
     },
     "execution_count": 7,
     "metadata": {},
     "output_type": "execute_result"
    }
   ],
   "source": [
    "### Give the location of the present working directory\n",
    "pwd()"
   ]
  },
  {
   "cell_type": "code",
   "execution_count": 13,
   "id": "052b8e83",
   "metadata": {},
   "outputs": [],
   "source": [
    "## Opening the file\n",
    "myfile = open(\"test.txt\")"
   ]
  },
  {
   "cell_type": "code",
   "execution_count": 10,
   "id": "77b4ad4a",
   "metadata": {},
   "outputs": [
    {
     "data": {
      "text/plain": [
       "<_io.TextIOWrapper name='test.txt' mode='r' encoding='cp1252'>"
      ]
     },
     "execution_count": 10,
     "metadata": {},
     "output_type": "execute_result"
    }
   ],
   "source": [
    "myfile"
   ]
  },
  {
   "cell_type": "markdown",
   "id": "41f4f8e5",
   "metadata": {},
   "source": [
    "This is the location in the memory which hold the file."
   ]
  },
  {
   "cell_type": "markdown",
   "id": "db8a7761",
   "metadata": {},
   "source": [
    "## Using .read() and .seek()"
   ]
  },
  {
   "cell_type": "code",
   "execution_count": 14,
   "id": "c683bf78",
   "metadata": {},
   "outputs": [
    {
     "data": {
      "text/plain": [
       "'Hello, this is a new file create using python ide.\\nThis the second line of the file.\\n'"
      ]
     },
     "execution_count": 14,
     "metadata": {},
     "output_type": "execute_result"
    }
   ],
   "source": [
    "myfile.read()"
   ]
  },
  {
   "cell_type": "code",
   "execution_count": 15,
   "id": "f8fc0979",
   "metadata": {},
   "outputs": [
    {
     "data": {
      "text/plain": [
       "''"
      ]
     },
     "execution_count": 15,
     "metadata": {},
     "output_type": "execute_result"
    }
   ],
   "source": [
    "## any calling the function\n",
    "myfile.read()"
   ]
  },
  {
   "cell_type": "markdown",
   "id": "b344aa31",
   "metadata": {},
   "source": [
    "The second time the function it called it does not give any output since the cursor has reached the end of the document. There is nothing more read. Hence we need to reset the cursor to the start."
   ]
  },
  {
   "cell_type": "code",
   "execution_count": 18,
   "id": "a265b39e",
   "metadata": {},
   "outputs": [
    {
     "data": {
      "text/plain": [
       "0"
      ]
     },
     "execution_count": 18,
     "metadata": {},
     "output_type": "execute_result"
    }
   ],
   "source": [
    "## Resetting the cursor.\n",
    "myfile.seek(0)"
   ]
  },
  {
   "cell_type": "code",
   "execution_count": 19,
   "id": "093f5f81",
   "metadata": {},
   "outputs": [
    {
     "data": {
      "text/plain": [
       "'Hello, this is a new file create using python ide.\\nThis the second line of the file.\\n'"
      ]
     },
     "execution_count": 19,
     "metadata": {},
     "output_type": "execute_result"
    }
   ],
   "source": [
    "myfile.read()"
   ]
  },
  {
   "cell_type": "code",
   "execution_count": null,
   "id": "c6d89de7",
   "metadata": {},
   "outputs": [],
   "source": [
    "## Using .readlines()"
   ]
  }
 ],
 "metadata": {
  "kernelspec": {
   "display_name": "Python 3 (ipykernel)",
   "language": "python",
   "name": "python3"
  },
  "language_info": {
   "codemirror_mode": {
    "name": "ipython",
    "version": 3
   },
   "file_extension": ".py",
   "mimetype": "text/x-python",
   "name": "python",
   "nbconvert_exporter": "python",
   "pygments_lexer": "ipython3",
   "version": "3.9.7"
  }
 },
 "nbformat": 4,
 "nbformat_minor": 5
}
