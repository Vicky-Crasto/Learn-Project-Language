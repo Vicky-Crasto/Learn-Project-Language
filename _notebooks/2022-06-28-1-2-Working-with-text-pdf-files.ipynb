{
 "cells": [
  {
   "cell_type": "markdown",
   "id": "5bf2439c",
   "metadata": {},
   "source": [
    "# 1.2 Working with text and pdf files\n",
    "\n",
    "> Summary of the file is the we try to get it write\n",
    "\n",
    "- toc : true\n",
    "- badges : false\n",
    "- comments : false\n",
    "- categories : [NLP]\n",
    "- image : false"
   ]
  },
  {
   "cell_type": "markdown",
   "id": "d23251fb",
   "metadata": {},
   "source": [
    "## Working with text file in python"
   ]
  },
  {
   "cell_type": "markdown",
   "id": "6c88706c",
   "metadata": {},
   "source": [
    "### Creating a text file in python"
   ]
  },
  {
   "cell_type": "code",
   "execution_count": 4,
   "id": "5a0ae78f",
   "metadata": {},
   "outputs": [
    {
     "name": "stdout",
     "output_type": "stream",
     "text": [
      "Writing test.txt\n"
     ]
    }
   ],
   "source": [
    "#%%writefile test.txt\n",
    "Hello, this is a new file create using python ide.\n",
    "This the second line of the file."
   ]
  },
  {
   "cell_type": "markdown",
   "id": "2ee78262",
   "metadata": {},
   "source": [
    "### Understanding the location of the file"
   ]
  },
  {
   "cell_type": "code",
   "execution_count": 7,
   "id": "0549a7df",
   "metadata": {},
   "outputs": [
    {
     "data": {
      "text/plain": [
       "'C:\\\\Users\\\\Vicky.Crasto\\\\OneDrive - Unilever\\\\Work_file_082021\\\\05_Other_learning\\\\NLP\\\\01_Udemy_JoseP'"
      ]
     },
     "execution_count": 7,
     "metadata": {},
     "output_type": "execute_result"
    }
   ],
   "source": [
    "### Give the location of the present working directory\n",
    "pwd()"
   ]
  },
  {
   "cell_type": "code",
   "execution_count": 13,
   "id": "d0271bf5",
   "metadata": {},
   "outputs": [],
   "source": [
    "## Opening the file\n",
    "myfile = open(\"test.txt\")"
   ]
  },
  {
   "cell_type": "code",
   "execution_count": 10,
   "id": "0ea5f841",
   "metadata": {},
   "outputs": [
    {
     "data": {
      "text/plain": [
       "<_io.TextIOWrapper name='test.txt' mode='r' encoding='cp1252'>"
      ]
     },
     "execution_count": 10,
     "metadata": {},
     "output_type": "execute_result"
    }
   ],
   "source": [
    "myfile"
   ]
  },
  {
   "cell_type": "markdown",
   "id": "a2c356a2",
   "metadata": {},
   "source": [
    "This is the location in the memory which hold the file."
   ]
  },
  {
   "cell_type": "markdown",
   "id": "629c6be1",
   "metadata": {},
   "source": [
    "## Using .read() and .seek()"
   ]
  },
  {
   "cell_type": "code",
   "execution_count": 14,
   "id": "4d45adbb",
   "metadata": {},
   "outputs": [
    {
     "data": {
      "text/plain": [
       "'Hello, this is a new file create using python ide.\\nThis the second line of the file.\\n'"
      ]
     },
     "execution_count": 14,
     "metadata": {},
     "output_type": "execute_result"
    }
   ],
   "source": [
    "myfile.read()"
   ]
  },
  {
   "cell_type": "code",
   "execution_count": 15,
   "id": "16ba40a2",
   "metadata": {},
   "outputs": [
    {
     "data": {
      "text/plain": [
       "''"
      ]
     },
     "execution_count": 15,
     "metadata": {},
     "output_type": "execute_result"
    }
   ],
   "source": [
    "## any calling the function\n",
    "myfile.read()"
   ]
  },
  {
   "cell_type": "markdown",
   "id": "80755757",
   "metadata": {},
   "source": [
    "The second time the function it called it does not give any output since the cursor has reached the end of the document. There is nothing more read. Hence we need to reset the cursor to the start."
   ]
  },
  {
   "cell_type": "code",
   "execution_count": 18,
   "id": "346866ff",
   "metadata": {},
   "outputs": [
    {
     "data": {
      "text/plain": [
       "0"
      ]
     },
     "execution_count": 18,
     "metadata": {},
     "output_type": "execute_result"
    }
   ],
   "source": [
    "## Resetting the cursor.\n",
    "myfile.seek(0)"
   ]
  },
  {
   "cell_type": "code",
   "execution_count": 19,
   "id": "e4e632c0",
   "metadata": {},
   "outputs": [
    {
     "data": {
      "text/plain": [
       "'Hello, this is a new file create using python ide.\\nThis the second line of the file.\\n'"
      ]
     },
     "execution_count": 19,
     "metadata": {},
     "output_type": "execute_result"
    }
   ],
   "source": [
    "myfile.read()"
   ]
  },
  {
   "cell_type": "markdown",
   "id": "70a1f6a8",
   "metadata": {},
   "source": [
    "## Using .readlines()"
   ]
  },
  {
   "cell_type": "markdown",
   "id": "1d4a1a3e",
   "metadata": {},
   "source": [
    "readlines() help to read the file line by line. Note: All the data is helded in the memory, hence large files will need to handled carefully."
   ]
  },
  {
   "cell_type": "code",
   "execution_count": 21,
   "id": "7106d20e",
   "metadata": {},
   "outputs": [
    {
     "data": {
      "text/plain": [
       "['Hello, this is a new file create using python ide.\\n',\n",
       " 'This the second line of the file.\\n']"
      ]
     },
     "execution_count": 21,
     "metadata": {},
     "output_type": "execute_result"
    }
   ],
   "source": [
    "myfile.seek(0)\n",
    "myfile.readlines()"
   ]
  },
  {
   "cell_type": "code",
   "execution_count": 24,
   "id": "56aecc23",
   "metadata": {},
   "outputs": [],
   "source": [
    "myfile.close()"
   ]
  },
  {
   "cell_type": "code",
   "execution_count": 25,
   "id": "d2718572",
   "metadata": {},
   "outputs": [],
   "source": [
    "## Writing a file - Understanding the mode"
   ]
  },
  {
   "cell_type": "markdown",
   "id": "aa328e8d",
   "metadata": {},
   "source": [
    "While opening the file, we can open it with different modes\n",
    "- 'r' default to read the file\n",
    "- 'w+' read and write the file.(Overwrites the existing file)\n",
    "- 'wb+' read and write as binary (used in case of pdf)"
   ]
  },
  {
   "cell_type": "code",
   "execution_count": 28,
   "id": "2110b6aa",
   "metadata": {},
   "outputs": [
    {
     "data": {
      "text/plain": [
       "26"
      ]
     },
     "execution_count": 28,
     "metadata": {},
     "output_type": "execute_result"
    }
   ],
   "source": [
    "myfile = open(\"test.txt\", mode= 'w+')\n",
    "myfile.write(\"This is an additional file\")"
   ]
  },
  {
   "cell_type": "code",
   "execution_count": 30,
   "id": "96de7816",
   "metadata": {},
   "outputs": [
    {
     "data": {
      "text/plain": [
       "['This is an additional file']"
      ]
     },
     "execution_count": 30,
     "metadata": {},
     "output_type": "execute_result"
    }
   ],
   "source": [
    "myfile.seek(0)\n",
    "myfile.readlines()"
   ]
  },
  {
   "cell_type": "markdown",
   "id": "1679049a",
   "metadata": {},
   "source": [
    "Hence the existing data is deleted and the new data is overwrite."
   ]
  },
  {
   "cell_type": "code",
   "execution_count": 32,
   "id": "bcac6522",
   "metadata": {},
   "outputs": [],
   "source": [
    "myfile.close()"
   ]
  },
  {
   "cell_type": "markdown",
   "id": "33c6249b",
   "metadata": {},
   "source": [
    "## Appending a file"
   ]
  },
  {
   "cell_type": "code",
   "execution_count": null,
   "id": "e5eee984",
   "metadata": {},
   "outputs": [],
   "source": []
  }
 ],
 "metadata": {
  "kernelspec": {
   "display_name": "Python 3 (ipykernel)",
   "language": "python",
   "name": "python3"
  },
  "language_info": {
   "codemirror_mode": {
    "name": "ipython",
    "version": 3
   },
   "file_extension": ".py",
   "mimetype": "text/x-python",
   "name": "python",
   "nbconvert_exporter": "python",
   "pygments_lexer": "ipython3",
   "version": "3.9.7"
  }
 },
 "nbformat": 4,
 "nbformat_minor": 5
}
