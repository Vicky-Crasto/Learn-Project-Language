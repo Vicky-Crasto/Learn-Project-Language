{
 "cells": [
  {
   "cell_type": "markdown",
   "id": "35fcc080",
   "metadata": {},
   "source": [
    "# 1.2 Working with text and pdf files\n",
    "\n",
    "> Summary : \n",
    "\n",
    "- toc : true\n",
    "- badges : true\n",
    "- comments : true\n",
    "- categories : [NLP]\n",
    "- image : false"
   ]
  },
  {
   "cell_type": "markdown",
   "id": "201ef7ee",
   "metadata": {},
   "source": [
    "## Working with text file in python"
   ]
  },
  {
   "cell_type": "markdown",
   "id": "68bd47cc",
   "metadata": {},
   "source": [
    "### Creating a text file in python"
   ]
  },
  {
   "cell_type": "code",
   "execution_count": 4,
   "id": "b546908d",
   "metadata": {},
   "outputs": [
    {
     "name": "stdout",
     "output_type": "stream",
     "text": [
      "Writing test.txt\n"
     ]
    }
   ],
   "source": [
    "%%writefile test.txt\n",
    "Hello, this is a new file create using python ide.\n",
    "This the second line of the file."
   ]
  },
  {
   "cell_type": "markdown",
   "id": "ec908158",
   "metadata": {},
   "source": [
    "### Understanding the location of the file"
   ]
  },
  {
   "cell_type": "code",
   "execution_count": 7,
   "id": "b8950387",
   "metadata": {},
   "outputs": [
    {
     "data": {
      "text/plain": [
       "'C:\\\\Users\\\\Vicky.Crasto\\\\OneDrive - Unilever\\\\Work_file_082021\\\\05_Other_learning\\\\NLP\\\\01_Udemy_JoseP'"
      ]
     },
     "execution_count": 7,
     "metadata": {},
     "output_type": "execute_result"
    }
   ],
   "source": [
    "### Give the location of the present working directory\n",
    "pwd()"
   ]
  },
  {
   "cell_type": "code",
   "execution_count": 13,
   "id": "f960f97e",
   "metadata": {},
   "outputs": [],
   "source": [
    "## Opening the file\n",
    "myfile = open(\"test.txt\")"
   ]
  },
  {
   "cell_type": "code",
   "execution_count": 10,
   "id": "21ee7c23",
   "metadata": {},
   "outputs": [
    {
     "data": {
      "text/plain": [
       "<_io.TextIOWrapper name='test.txt' mode='r' encoding='cp1252'>"
      ]
     },
     "execution_count": 10,
     "metadata": {},
     "output_type": "execute_result"
    }
   ],
   "source": [
    "myfile"
   ]
  },
  {
   "cell_type": "markdown",
   "id": "12e5b519",
   "metadata": {},
   "source": [
    "This is the location in the memory which hold the file."
   ]
  },
  {
   "cell_type": "markdown",
   "id": "6ef87365",
   "metadata": {},
   "source": [
    "## Using .read() and .seek()"
   ]
  },
  {
   "cell_type": "code",
   "execution_count": 14,
   "id": "80bee140",
   "metadata": {},
   "outputs": [
    {
     "data": {
      "text/plain": [
       "'Hello, this is a new file create using python ide.\\nThis the second line of the file.\\n'"
      ]
     },
     "execution_count": 14,
     "metadata": {},
     "output_type": "execute_result"
    }
   ],
   "source": [
    "myfile.read()"
   ]
  },
  {
   "cell_type": "code",
   "execution_count": 15,
   "id": "bb4ef993",
   "metadata": {},
   "outputs": [
    {
     "data": {
      "text/plain": [
       "''"
      ]
     },
     "execution_count": 15,
     "metadata": {},
     "output_type": "execute_result"
    }
   ],
   "source": [
    "## any calling the function\n",
    "myfile.read()"
   ]
  },
  {
   "cell_type": "markdown",
   "id": "4668891d",
   "metadata": {},
   "source": [
    "The second time the function it called it does not give any output since the cursor has reached the end of the document. There is nothing more read. Hence we need to reset the cursor to the start."
   ]
  },
  {
   "cell_type": "code",
   "execution_count": 18,
   "id": "a14f8cab",
   "metadata": {},
   "outputs": [
    {
     "data": {
      "text/plain": [
       "0"
      ]
     },
     "execution_count": 18,
     "metadata": {},
     "output_type": "execute_result"
    }
   ],
   "source": [
    "## Resetting the cursor.\n",
    "myfile.seek(0)"
   ]
  },
  {
   "cell_type": "code",
   "execution_count": 19,
   "id": "9c159aeb",
   "metadata": {},
   "outputs": [
    {
     "data": {
      "text/plain": [
       "'Hello, this is a new file create using python ide.\\nThis the second line of the file.\\n'"
      ]
     },
     "execution_count": 19,
     "metadata": {},
     "output_type": "execute_result"
    }
   ],
   "source": [
    "myfile.read()"
   ]
  },
  {
   "cell_type": "markdown",
   "id": "36c9fa47",
   "metadata": {},
   "source": [
    "## Using .readlines()"
   ]
  },
  {
   "cell_type": "markdown",
   "id": "13a6c53e",
   "metadata": {},
   "source": [
    "readlines() help to read the file line by line. Note: All the data is helded in the memory, hence large files will need to handled carefully."
   ]
  },
  {
   "cell_type": "code",
   "execution_count": 21,
   "id": "925cb43a",
   "metadata": {},
   "outputs": [
    {
     "data": {
      "text/plain": [
       "['Hello, this is a new file create using python ide.\\n',\n",
       " 'This the second line of the file.\\n']"
      ]
     },
     "execution_count": 21,
     "metadata": {},
     "output_type": "execute_result"
    }
   ],
   "source": [
    "myfile.seek(0)\n",
    "myfile.readlines()"
   ]
  },
  {
   "cell_type": "code",
   "execution_count": 24,
   "id": "29cb8f3e",
   "metadata": {},
   "outputs": [],
   "source": [
    "myfile.close()"
   ]
  },
  {
   "cell_type": "code",
   "execution_count": 25,
   "id": "643c45fe",
   "metadata": {},
   "outputs": [],
   "source": [
    "## Writing a file - Understanding the mode"
   ]
  },
  {
   "cell_type": "markdown",
   "id": "9f32e41e",
   "metadata": {},
   "source": [
    "While opening the file, we can open it with different modes\n",
    "- 'r' default to read the file\n",
    "- 'w+' read and write the file.(Overwrites the existing file)\n",
    "- 'wb+' read and write as binary (used in case of pdf)"
   ]
  },
  {
   "cell_type": "code",
   "execution_count": 28,
   "id": "b0b4337c",
   "metadata": {},
   "outputs": [
    {
     "data": {
      "text/plain": [
       "26"
      ]
     },
     "execution_count": 28,
     "metadata": {},
     "output_type": "execute_result"
    }
   ],
   "source": [
    "myfile = open(\"test.txt\", mode= 'w+')\n",
    "myfile.write(\"This is an additional file\")"
   ]
  },
  {
   "cell_type": "code",
   "execution_count": 30,
   "id": "60089816",
   "metadata": {},
   "outputs": [
    {
     "data": {
      "text/plain": [
       "['This is an additional file']"
      ]
     },
     "execution_count": 30,
     "metadata": {},
     "output_type": "execute_result"
    }
   ],
   "source": [
    "myfile.seek(0)\n",
    "myfile.readlines()"
   ]
  },
  {
   "cell_type": "markdown",
   "id": "375072de",
   "metadata": {},
   "source": [
    "Hence the existing data is deleted and the new data is overwrite."
   ]
  },
  {
   "cell_type": "code",
   "execution_count": 32,
   "id": "436dfc3c",
   "metadata": {},
   "outputs": [],
   "source": [
    "myfile.close()"
   ]
  },
  {
   "cell_type": "markdown",
   "id": "970e6665",
   "metadata": {},
   "source": [
    "## Appending a file"
   ]
  },
  {
   "cell_type": "code",
   "execution_count": null,
   "id": "3a976ec0",
   "metadata": {},
   "outputs": [],
   "source": []
  }
 ],
 "metadata": {
  "kernelspec": {
   "display_name": "Python 3 (ipykernel)",
   "language": "python",
   "name": "python3"
  },
  "language_info": {
   "codemirror_mode": {
    "name": "ipython",
    "version": 3
   },
   "file_extension": ".py",
   "mimetype": "text/x-python",
   "name": "python",
   "nbconvert_exporter": "python",
   "pygments_lexer": "ipython3",
   "version": "3.9.7"
  }
 },
 "nbformat": 4,
 "nbformat_minor": 5
}
