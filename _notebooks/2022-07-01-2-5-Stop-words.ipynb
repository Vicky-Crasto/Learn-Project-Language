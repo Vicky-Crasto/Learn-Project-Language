{
 "cells": [
  {
   "cell_type": "markdown",
   "id": "d3e3290a",
   "metadata": {},
   "source": [
    "# 2.5 Stop Words\n",
    "\n",
    "> The post explains the basics of Spacy library used for NLP\n",
    "\n",
    "- toc : true\n",
    "- badges : false\n",
    "- comments : false\n",
    "- categories : [Spacy,stopwords,NLP-Chapter-2]\n",
    "- image : false"
   ]
  },
  {
   "cell_type": "markdown",
   "id": "aec15de1",
   "metadata": {},
   "source": [
    "Words like \"a\" and \"the\" appear so frequently that they don't require tagging as thoroughly as nouns, verbs and modifiers. We call these *stop words*, and they can be filtered from the text to be processed. spaCy holds a built-in list of some 305 English stop words"
   ]
  },
  {
   "cell_type": "code",
   "execution_count": 2,
   "id": "2d859919",
   "metadata": {},
   "outputs": [],
   "source": [
    "# Perform standard imports:\n",
    "import spacy\n",
    "nlp = spacy.load('en_core_web_sm')"
   ]
  },
  {
   "cell_type": "markdown",
   "id": "db8f4403",
   "metadata": {},
   "source": [
    "### Print the set of spaCy's default stop words "
   ]
  },
  {
   "cell_type": "code",
   "execution_count": 3,
   "id": "287c7fab",
   "metadata": {},
   "outputs": [
    {
     "name": "stdout",
     "output_type": "stream",
     "text": [
      "{'whereafter', 'her', 'although', 'across', 'make', 'be', 'wherein', 'hereby', 'latterly', 'last', 'ours', '‘ll', 'twelve', 'behind', 'they', 'did', 'herself', 'anyhow', 'namely', 'him', 'always', 'however', 'or', 'ever', 'ten', 'again', 'almost', 'has', 'formerly', 'hereafter', 'do', 'anyway', 'cannot', 'due', 'via', 'more', 'whatever', 'my', 'by', 'get', \"'d\", 'some', 'were', 'name', 'seeming', 'mostly', 'same', 'often', 'wherever', 'six', 'yours', 'keep', 'everywhere', 'here', 'thus', 'used', 'part', 'anything', 'over', 'for', 'upon', 'until', 'seem', 'onto', 'can', 'above', 'this', 'not', 'down', 'yet', 'something', 'further', 'amongst', 'whether', 'she', 'someone', 'if', 'beforehand', 'should', 'all', 'whence', 'becomes', 'one', '‘m', 'while', 'another', \"'m\", '‘ve', 'before', '‘s', 'anywhere', 'go', 'first', 'sixty', 'whereupon', 'does', 'your', 'nothing', 'least', 'but', 'various', 'anyone', 'been', 'might', 'though', 'why', 'say', 'see', 'both', 'beyond', 'somewhere', 'its', 'five', 'afterwards', 'seems', 'these', 'even', 'ourselves', 'still', 'nowhere', 'next', 'top', 'those', 'became', 'quite', 'yourself', 'well', 'fifteen', 'he', 'amount', 'moreover', 'other', \"'re\", 'much', 'nevertheless', 'themselves', 'must', 'mine', 'an', 'whose', 'thereupon', 'made', 'therein', 'own', 'whenever', 'except', 'to', '’ll', 'at', 'under', 'elsewhere', 'alone', 'eight', 'now', 'without', 'otherwise', 'empty', 'four', 'us', \"'ve\", 'then', 'eleven', 'too', 'n‘t', \"'ll\", 'thence', 'full', 'as', 'their', 'in', 'out', 'along', '’re', '’s', 'whither', 'whoever', 'put', 'since', 'itself', 'never', 'around', 'hence', 'during', 'everything', 'about', 'using', 'himself', 'yourselves', 'doing', 'against', 'also', 'being', 'which', 'we', 'with', 'side', 'besides', 're', 'very', 'forty', 'through', 'sometimes', 'unless', 'together', 'serious', 'sometime', 'move', 'up', 'throughout', 'would', 'latter', 'two', 'meanwhile', 'therefore', 'such', 'where', 'whereby', 'who', 'many', 'how', 'thereby', 'twenty', 'from', 'back', 'into', 'the', 'else', 'herein', 'becoming', 'myself', 'nor', 'am', 'what', 'done', 'just', 'is', 'seemed', 'every', '’m', 'already', 'that', \"n't\", 'hundred', 'within', 'on', 'call', 'beside', 'whole', 'among', 'please', 'others', 'ca', '’ve', 'me', 'n’t', \"'s\", 'none', 'several', 'few', 'indeed', 'so', 'regarding', 'most', 'whom', 'whereas', '’d', 'nine', 'may', 'between', 'once', 'i', 'will', 'no', 'only', 'either', 'towards', 'was', 'our', 'a', 'three', 'had', 'thereafter', 'there', 'are', 'when', 'front', 'than', 'less', '‘d', 'nobody', 'per', 'take', 'neither', 'could', 'it', 'enough', 'after', 'off', 'hers', 'former', 'below', 'bottom', 'become', 'hereupon', 'noone', 'show', 'give', 'third', 'everyone', 'somehow', 'them', 'each', 'any', 'because', 'have', 'rather', 'really', 'and', 'you', 'of', '‘re', 'toward', 'his', 'perhaps', 'thru', 'fifty'}\n"
     ]
    }
   ],
   "source": [
    "print(nlp.Defaults.stop_words)"
   ]
  },
  {
   "cell_type": "code",
   "execution_count": 4,
   "id": "5c39ae36",
   "metadata": {},
   "outputs": [
    {
     "data": {
      "text/plain": [
       "326"
      ]
     },
     "execution_count": 4,
     "metadata": {},
     "output_type": "execute_result"
    }
   ],
   "source": [
    "len(nlp.Defaults.stop_words)"
   ]
  },
  {
   "cell_type": "markdown",
   "id": "38263fd7",
   "metadata": {},
   "source": [
    "### Check if a word is stop word or not"
   ]
  },
  {
   "cell_type": "code",
   "execution_count": 6,
   "id": "52c947e7",
   "metadata": {},
   "outputs": [
    {
     "data": {
      "text/plain": [
       "True"
      ]
     },
     "execution_count": 6,
     "metadata": {},
     "output_type": "execute_result"
    }
   ],
   "source": [
    "nlp.vocab['myself'].is_stop"
   ]
  },
  {
   "cell_type": "code",
   "execution_count": 7,
   "id": "566e4a34",
   "metadata": {},
   "outputs": [
    {
     "data": {
      "text/plain": [
       "False"
      ]
     },
     "execution_count": 7,
     "metadata": {},
     "output_type": "execute_result"
    }
   ],
   "source": [
    "nlp.vocab['elephant'].is_stop"
   ]
  },
  {
   "cell_type": "code",
   "execution_count": 8,
   "id": "5eefe701",
   "metadata": {},
   "outputs": [],
   "source": [
    "### Adding a stop word to the default list"
   ]
  },
  {
   "cell_type": "markdown",
   "id": "fbd99112",
   "metadata": {},
   "source": [
    "**Step 1** - Add the word to the set of stop words. Use lowercase!"
   ]
  },
  {
   "cell_type": "code",
   "execution_count": 10,
   "id": "528f5257",
   "metadata": {},
   "outputs": [],
   "source": [
    "nlp.Defaults.stop_words.add('btw')"
   ]
  },
  {
   "cell_type": "markdown",
   "id": "822683f5",
   "metadata": {},
   "source": [
    "**Step 2** - Set the stop word tag on the lexeme"
   ]
  },
  {
   "cell_type": "code",
   "execution_count": 12,
   "id": "303296bf",
   "metadata": {},
   "outputs": [],
   "source": [
    "nlp.vocab['btw'].is_stop = True"
   ]
  },
  {
   "cell_type": "code",
   "execution_count": 13,
   "id": "9959d476",
   "metadata": {},
   "outputs": [
    {
     "data": {
      "text/plain": [
       "327"
      ]
     },
     "execution_count": 13,
     "metadata": {},
     "output_type": "execute_result"
    }
   ],
   "source": [
    "len(nlp.Defaults.stop_words)"
   ]
  },
  {
   "cell_type": "code",
   "execution_count": 14,
   "id": "2f6aaa86",
   "metadata": {},
   "outputs": [
    {
     "data": {
      "text/plain": [
       "True"
      ]
     },
     "execution_count": 14,
     "metadata": {},
     "output_type": "execute_result"
    }
   ],
   "source": [
    "nlp.vocab['btw'].is_stop"
   ]
  },
  {
   "cell_type": "markdown",
   "id": "7bbfeebd",
   "metadata": {},
   "source": [
    "<font color=green>When adding stop words, always use lowercase. Lexemes are converted to lowercase before being added to **vocab**.</font>"
   ]
  },
  {
   "cell_type": "markdown",
   "id": "477869f6",
   "metadata": {},
   "source": [
    "### Removing a stop word from the default list."
   ]
  },
  {
   "cell_type": "markdown",
   "id": "25dec9ee",
   "metadata": {},
   "source": [
    "**Step 1** - Remove the word from the set of stop words"
   ]
  },
  {
   "cell_type": "code",
   "execution_count": 18,
   "id": "8a1fc348",
   "metadata": {},
   "outputs": [],
   "source": [
    "nlp.Defaults.stop_words.remove('beyond')"
   ]
  },
  {
   "cell_type": "markdown",
   "id": "c4c34599",
   "metadata": {},
   "source": [
    "**Step 2** - Remove the stop_word tag from the lexeme\n",
    "\n"
   ]
  },
  {
   "cell_type": "code",
   "execution_count": 22,
   "id": "e753d71f",
   "metadata": {},
   "outputs": [],
   "source": [
    "nlp.vocab['beyond'].is_stop = False"
   ]
  },
  {
   "cell_type": "code",
   "execution_count": 23,
   "id": "7fa35ad4",
   "metadata": {},
   "outputs": [
    {
     "data": {
      "text/plain": [
       "326"
      ]
     },
     "execution_count": 23,
     "metadata": {},
     "output_type": "execute_result"
    }
   ],
   "source": [
    "len(nlp.Defaults.stop_words)"
   ]
  },
  {
   "cell_type": "code",
   "execution_count": 24,
   "id": "8932a110",
   "metadata": {},
   "outputs": [
    {
     "data": {
      "text/plain": [
       "False"
      ]
     },
     "execution_count": 24,
     "metadata": {},
     "output_type": "execute_result"
    }
   ],
   "source": [
    "nlp.vocab['beyond'].is_stop"
   ]
  },
  {
   "cell_type": "code",
   "execution_count": null,
   "id": "6955fbc8",
   "metadata": {},
   "outputs": [],
   "source": []
  }
 ],
 "metadata": {
  "kernelspec": {
   "display_name": "Python 3 (ipykernel)",
   "language": "python",
   "name": "python3"
  },
  "language_info": {
   "codemirror_mode": {
    "name": "ipython",
    "version": 3
   },
   "file_extension": ".py",
   "mimetype": "text/x-python",
   "name": "python",
   "nbconvert_exporter": "python",
   "pygments_lexer": "ipython3",
   "version": "3.9.7"
  }
 },
 "nbformat": 4,
 "nbformat_minor": 5
}
