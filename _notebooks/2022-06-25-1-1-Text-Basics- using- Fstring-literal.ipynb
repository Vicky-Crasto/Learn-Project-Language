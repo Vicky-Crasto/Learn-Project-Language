{
 "cells": [
  {
   "cell_type": "markdown",
   "id": "f8b703b7",
   "metadata": {},
   "source": [
    "# 1.1 Learning to use F string literal\n",
    "\n",
    "> Learning to use F string for printing. Also alignment and padding of Fstring. Formating of dates while using Fstring is also shown.\n",
    "\n",
    "- toc : true\n",
    "- badges : true\n",
    "- comments : true\n",
    "- categories : [NLP, NLP-Chapter-1]\n",
    "- image : false\n"
   ]
  },
  {
   "cell_type": "markdown",
   "id": "3f6e8c37",
   "metadata": {},
   "source": [
    " **Topics covered**\n",
    "\n",
    "- F string formating in printing text\n",
    "- Alignment, padding Fstring\n",
    "- Format dates in Printing"
   ]
  },
  {
   "cell_type": "markdown",
   "id": "6d4425d7",
   "metadata": {},
   "source": [
    "## F string basics"
   ]
  },
  {
   "cell_type": "code",
   "execution_count": 2,
   "id": "336a8d9b",
   "metadata": {},
   "outputs": [],
   "source": [
    "person = \"Richard\""
   ]
  },
  {
   "cell_type": "code",
   "execution_count": 3,
   "id": "d2d39aae",
   "metadata": {},
   "outputs": [
    {
     "name": "stdout",
     "output_type": "stream",
     "text": [
      "The name of the boy is Richard\n"
     ]
    }
   ],
   "source": [
    "print(f\"The name of the boy is {person}\")"
   ]
  },
  {
   "cell_type": "markdown",
   "id": "2fd3ef01",
   "metadata": {},
   "source": [
    "#### Using a dictionary with f string"
   ]
  },
  {
   "cell_type": "code",
   "execution_count": 13,
   "id": "0b695707",
   "metadata": {},
   "outputs": [],
   "source": [
    "d = {'Roll no' : 12 , 'Subject': \"English\"}\n"
   ]
  },
  {
   "cell_type": "code",
   "execution_count": 14,
   "id": "86bb62ea",
   "metadata": {},
   "outputs": [
    {
     "name": "stdout",
     "output_type": "stream",
     "text": [
      "The student with roll no 12, got highest marks in English\n"
     ]
    }
   ],
   "source": [
    "print(f\"The student with roll no {d['Roll no']}, got highest marks in {d['Subject']}\")"
   ]
  },
  {
   "cell_type": "markdown",
   "id": "1de946e6",
   "metadata": {},
   "source": [
    "#### Using a list"
   ]
  },
  {
   "cell_type": "code",
   "execution_count": 21,
   "id": "9af6483b",
   "metadata": {},
   "outputs": [],
   "source": [
    "l = [\"mango\", \"orange\",\"banana\"]"
   ]
  },
  {
   "cell_type": "code",
   "execution_count": 26,
   "id": "5ebcba98",
   "metadata": {},
   "outputs": [
    {
     "name": "stdout",
     "output_type": "stream",
     "text": [
      "The fruit that I enjoy the most is mango and orange\n"
     ]
    }
   ],
   "source": [
    "print(f\"The fruit that I enjoy the most is {l[0]} and {l[1]}\")"
   ]
  },
  {
   "cell_type": "markdown",
   "id": "499300b8",
   "metadata": {},
   "source": [
    "### Minimum Widths, Alignment and Padding\n",
    "You can pass arguments inside a nested set of curly braces to set a minimum width for the field, the alignment and even padding characters."
   ]
  },
  {
   "cell_type": "code",
   "execution_count": 30,
   "id": "006f1437",
   "metadata": {},
   "outputs": [],
   "source": [
    "library = [('Author', 'Topic', 'Pages'), ('Twain', 'Rafting', 601), ('Feynman', 'Physics', 95), ('Hamilton', 'Mythology', 144)]"
   ]
  },
  {
   "cell_type": "markdown",
   "id": "779524fe",
   "metadata": {},
   "source": [
    "### Tuple unpacking"
   ]
  },
  {
   "cell_type": "code",
   "execution_count": 33,
   "id": "d8426bda",
   "metadata": {},
   "outputs": [
    {
     "name": "stdout",
     "output_type": "stream",
     "text": [
      "Author, Topic,Pages\n",
      "Twain, Rafting,601\n",
      "Feynman, Physics,95\n",
      "Hamilton, Mythology,144\n"
     ]
    }
   ],
   "source": [
    "for author, topic, page in library:\n",
    "    print(f\"{author}, {topic},{page}\")"
   ]
  },
  {
   "cell_type": "markdown",
   "id": "5a1b8ad8",
   "metadata": {},
   "source": [
    "### aligning the text"
   ]
  },
  {
   "cell_type": "code",
   "execution_count": 37,
   "id": "16cd5e43",
   "metadata": {},
   "outputs": [
    {
     "name": "stdout",
     "output_type": "stream",
     "text": [
      "Author     Topic   Pages  \n",
      "Twain      Rafting     601\n",
      "Feynman    Physics      95\n",
      "Hamilton   Mythology    144\n"
     ]
    }
   ],
   "source": [
    "for author, topic, page in library:\n",
    "    print(f\"{author:{10}} {topic:{8}}{page:{7}}\")"
   ]
  },
  {
   "cell_type": "markdown",
   "id": "fefc10b6",
   "metadata": {},
   "source": [
    "Here the first three lines align, except `Pages` follows a default left-alignment while numbers are right-aligned. Also, the fourth line's page number is pushed to the right as `Mythology` exceeds the minimum field width of `8`. When setting minimum field widths make sure to take the longest item into account.\n",
    "\n",
    "To set the alignment, use the character `<` for left-align,  `^` for center, `>` for right.<br>\n",
    "To set padding, precede the alignment character with the padding character (`-` and `.` are common choices)."
   ]
  },
  {
   "cell_type": "code",
   "execution_count": 40,
   "id": "63027901",
   "metadata": {},
   "outputs": [
    {
     "name": "stdout",
     "output_type": "stream",
     "text": [
      "Author     Topic       Pages\n",
      "Twain      Rafting       601\n",
      "Feynman    Physics        95\n",
      "Hamilton   Mythology     144\n"
     ]
    }
   ],
   "source": [
    "for author, topic, page in library:\n",
    "    print(f\"{author:{10}} {topic:{10}}{page:>{7}}\")"
   ]
  },
  {
   "cell_type": "code",
   "execution_count": 44,
   "id": "a691796f",
   "metadata": {},
   "outputs": [
    {
     "name": "stdout",
     "output_type": "stream",
     "text": [
      "Author     Topic     ..Pages\n",
      "Twain      Rafting   ....601\n",
      "Feynman    Physics   .....95\n",
      "Hamilton   Mythology ....144\n"
     ]
    }
   ],
   "source": [
    "for author, topic, page in library:\n",
    "    print(f\"{author:{10}} {topic:{10}}{page:.>{7}}\")"
   ]
  },
  {
   "cell_type": "code",
   "execution_count": 45,
   "id": "002519ef",
   "metadata": {},
   "outputs": [],
   "source": [
    "## Working with dates"
   ]
  },
  {
   "cell_type": "code",
   "execution_count": 47,
   "id": "7000385b",
   "metadata": {},
   "outputs": [],
   "source": [
    "from datetime import datetime"
   ]
  },
  {
   "cell_type": "code",
   "execution_count": 51,
   "id": "9ac51916",
   "metadata": {},
   "outputs": [],
   "source": [
    "today = datetime(year=2022, month =1, day = 27)"
   ]
  },
  {
   "cell_type": "code",
   "execution_count": 50,
   "id": "3727ec14",
   "metadata": {},
   "outputs": [
    {
     "name": "stdout",
     "output_type": "stream",
     "text": [
      "January,27, 2018\n"
     ]
    }
   ],
   "source": [
    "print(f'{today:%B,%d, %Y}')"
   ]
  },
  {
   "cell_type": "code",
   "execution_count": null,
   "id": "d61c232c",
   "metadata": {},
   "outputs": [],
   "source": []
  }
 ],
 "metadata": {
  "kernelspec": {
   "display_name": "Python 3 (ipykernel)",
   "language": "python",
   "name": "python3"
  },
  "language_info": {
   "codemirror_mode": {
    "name": "ipython",
    "version": 3
   },
   "file_extension": ".py",
   "mimetype": "text/x-python",
   "name": "python",
   "nbconvert_exporter": "python",
   "pygments_lexer": "ipython3",
   "version": "3.9.7"
  }
 },
 "nbformat": 4,
 "nbformat_minor": 5
}
